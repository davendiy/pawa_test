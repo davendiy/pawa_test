{
 "cells": [
  {
   "cell_type": "markdown",
   "metadata": {
    "slideshow": {
     "slide_type": "slide"
    }
   },
   "source": [
    "# Task 1 \n",
    "\n",
    "A Hamming number is a positive number that has no prime factor larger than 5.\n",
    "\n",
    "So the first few Hamming numbers are 1, 2, 3, 4, 5, 6, 8, 9, 10, 12, 15.\n",
    "\n",
    "There are 1105 Hamming numbers not exceeding $10^8$.\n",
    "\n",
    "We will call a positive number a generalized Hamming number of type n if it has no prime factor larger than\n",
    "n.\n",
    "\n",
    "Hence the Hamming numbers are the generalized Hamming numbers of type 5.\n",
    "\n",
    "How many generalized Hamming numbers of type 100 are there which don't exceed $10^9$?\n",
    "\n",
    "## Answer: 120319643\n"
   ]
  },
  {
   "cell_type": "code",
   "execution_count": 3,
   "metadata": {
    "slideshow": {
     "slide_type": "slide"
    }
   },
   "outputs": [
    {
     "data": {
      "text/plain": [
       "1000000097"
      ]
     },
     "execution_count": 3,
     "metadata": {},
     "output_type": "execute_result"
    }
   ],
   "source": [
    "import numpy as np\n",
    "import time\n",
    "import sys \n",
    "\n",
    "# here we shall use numpy arrays and vectorized calculations \n",
    "# for implementation of sieve of eratosthenes\n",
    "# using int8 type as the smallest possible type\n",
    "# in order to store values 0 or 1\n",
    "x = np.zeros((10 ** 9 + 1,), dtype='int8')\n",
    "sys.getsizeof(x) # it's only 1 GB +- 1e-5% memory"
   ]
  },
  {
   "cell_type": "code",
   "execution_count": 4,
   "metadata": {
    "slideshow": {
     "slide_type": "slide"
    }
   },
   "outputs": [
    {
     "name": "stdout",
     "output_type": "stream",
     "text": [
      "answer: 120319643\n",
      "time elapsed: 18.9s\n"
     ]
    }
   ],
   "source": [
    "# sieve of eratosthenes using numpy slices\n",
    "start = time.time()\n",
    "for i in range(2, 100):\n",
    "    x[::i] = 1\n",
    "    \n",
    "# 0 and 1 shouldn't be counted \n",
    "# only 18 seconds and we get the answer\n",
    "print('answer:', len(x[x==0])-2)    \n",
    "print(f'time elapsed: {(time.time() - start):.3}s')"
   ]
  },
  {
   "cell_type": "markdown",
   "metadata": {
    "slideshow": {
     "slide_type": "slide"
    }
   },
   "source": [
    "# Task 2\n",
    "\n",
    "A positive integer n is called **squarefree** if no square of a prime divides n. Of the twelve distinct numbers in\n",
    "the first eight rows of Pascal's triangle, all except 4 and 20 are squarefree. The sum of the distinct squarefree\n",
    "numbers in the first eight rows is 105.\n",
    "\n",
    "Find the sum of the distinct squarefree numbers in the first 51 rows of Pascal's triangle.\n",
    "\n",
    "## Answer: 34029210557338"
   ]
  },
  {
   "cell_type": "code",
   "execution_count": 5,
   "metadata": {
    "slideshow": {
     "slide_type": "slide"
    }
   },
   "outputs": [
    {
     "data": {
      "text/plain": [
       "156077261327400.03"
      ]
     },
     "execution_count": 5,
     "metadata": {},
     "output_type": "execute_result"
    }
   ],
   "source": [
    "from scipy.special import binom \n",
    "\n",
    "# Gives approximate solution since this func calculates \n",
    "# binomial coefficient using exact formula without long \n",
    "# arithmetics.\n",
    "# Therefore, this function isn't appropriate\n",
    "binom(51, 22)   "
   ]
  },
  {
   "cell_type": "code",
   "execution_count": 75,
   "metadata": {
    "slideshow": {
     "slide_type": "subslide"
    }
   },
   "outputs": [],
   "source": [
    "# None of built-in functions for binomial coefficient calculation use \n",
    "# recursion formula. Instead all of them use exact form with factorials, \n",
    "# which seems to be a bad solution for large (n, k) \n",
    "# due to slow long-integers calculations\n",
    "\n",
    "__cache = {}\n",
    "\n",
    "# lazy recursion version of binomial coefficient \n",
    "def binomial(n,k):\n",
    "    if (n, k) not in __cache: \n",
    "        __cache[n, k] = 1 if k==0 else (0 if n==0 else binomial(n-1, k) + binomial(n-1, k-1))\n",
    "    \n",
    "    return __cache[n, k]\n"
   ]
  },
  {
   "cell_type": "code",
   "execution_count": 78,
   "metadata": {
    "slideshow": {
     "slide_type": "slide"
    }
   },
   "outputs": [
    {
     "name": "stdout",
     "output_type": "stream",
     "text": [
      "162479286706452441433253044846236747000\n",
      "time elapsed: 0.000534s\n"
     ]
    }
   ],
   "source": [
    "from math import comb\n",
    "\n",
    "# however, math.comb works in a moment due to its C implementation \n",
    "# even for large n! value\n",
    "start = time.time()\n",
    "print(comb(30000, 10))\n",
    "print(f'time elapsed: {(time.time() - start):.3}s')"
   ]
  },
  {
   "cell_type": "code",
   "execution_count": 77,
   "metadata": {
    "slideshow": {
     "slide_type": "slide"
    }
   },
   "outputs": [
    {
     "name": "stdout",
     "output_type": "stream",
     "text": [
      "11414858256543956456268686660\n",
      "time elapsed: 0.101s\n"
     ]
    }
   ],
   "source": [
    "# whereas recursion version takes 0.1s for smaller value \n",
    "# and it breaks on n >= 3000 due to max recursion depth exceeding\n",
    "# (which can be fixed, but anyway it's slow)\n",
    "start = time.time()\n",
    "print(binomial(2900, 10))\n",
    "print(f'time elapsed: {(time.time() - start):.3}s')"
   ]
  },
  {
   "cell_type": "code",
   "execution_count": 81,
   "metadata": {
    "slideshow": {
     "slide_type": "slide"
    }
   },
   "outputs": [
    {
     "name": "stdout",
     "output_type": "stream",
     "text": [
      "time elapsed: 0.00243s\n",
      "values: {1, 2, 3 ... 1533939, 346104, 20475}\n"
     ]
    }
   ],
   "source": [
    "# therefore, just use built-in math.comb method and \n",
    "# build the entire Pascal triangle using brute force\n",
    "distinct = set()\n",
    "start_time = time.time()\n",
    "for i in range(1, 51):\n",
    "    for j in range(i, 51):\n",
    "        distinct.add(comb(j, i))\n",
    "\n",
    "        \n",
    "print(f'time elapsed: {(time.time() - start_time):.3}s')\n",
    "print('values: {', end='')\n",
    "print(*list(distinct)[:3], '...', *list(squarefree)[-3:], end='', sep=', ')\n",
    "print('}')"
   ]
  },
  {
   "cell_type": "code",
   "execution_count": 101,
   "metadata": {
    "slideshow": {
     "slide_type": "slide"
    }
   },
   "outputs": [
    {
     "name": "stdout",
     "output_type": "stream",
     "text": [
      "time elapsed: 0.0521s\n",
      "amount of distinct squarefree binomial coefficients: 158\n",
      "values: {1, 2, 3, ..., 1533939, 646646, 66045}\n",
      "sum: 34029210557338\n"
     ]
    }
   ],
   "source": [
    "# now let's find all the squarefree binomial coefficients \n",
    "# using built-in sage function $factor$ in order to \n",
    "# check all prime dividers \n",
    "squarefree = set()\n",
    "\n",
    "start_time = time.time()\n",
    "for el in distinct:\n",
    "    # means that every prime factor appears only once\n",
    "    if '^' not in str(factor(el)):\n",
    "        squarefree.add(el)\n",
    "        \n",
    "print(f'time elapsed: {(time.time() - start_time):.3}s')\n",
    "print(\"amount of distinct squarefree binomial coefficients:\", len(squarefree))\n",
    "print('values: {', end='')\n",
    "print(*list(squarefree)[:3], '...', *list(squarefree)[-3:], end='', sep=', ')\n",
    "print('}')\n",
    "print(\"sum:\", sum(squarefree))"
   ]
  },
  {
   "cell_type": "markdown",
   "metadata": {
    "slideshow": {
     "slide_type": "slide"
    }
   },
   "source": [
    "# Task 3 \n",
    "k Distinct Integers With Target Sum\n",
    "The goal of this question is to produce, in C/C++ or Python, an algorithm that given a list of integers prints k\n",
    "distinct integers that form the target sum.\n",
    "\n",
    "The input is a text file that should be read by your program, and has the following format:\n",
    "\n",
    "3  \n",
    "\n",
    "51 \n",
    "\n",
    "7  \n",
    "\n",
    "3  \n",
    "\n",
    "6  \n",
    "\n",
    "10 \n",
    "\n",
    "43 \n",
    "\n",
    "54 \n",
    "\n",
    "2  \n",
    "\n",
    "where the first line in the file is k, the second line is the target sum, and the rest of the lines are the potential\n",
    "integers to be summed.\n",
    "\n",
    "In the above example, your program should find the 3 numbers:\n",
    "\n",
    "6\n",
    "\n",
    "43\n",
    "\n",
    "2\n",
    "because they are distinct and add up to 51. The order of the numbers found is\n",
    "irrelevant.\n",
    "\n",
    "This question has two parts:\n",
    "  1. Implement a brute-force solution. What's the running time of this solution,\n",
    "        as a function of n and k, where n in the length of the input set?\n",
    "  2. Implement a more time efficient solution - ideally a solution with lowest\n",
    "        possible running time. What's the running time of your solution? Do you think it's possible to do\n",
    "        better? Why or why not?\n",
    "        \n",
    "        \n",
    "## Answer\n",
    "\n",
    "Given problem is a well-known **subset sum fixed size problem**, which is partial case of another well-known **subset sum problem**. The only difference is that the second one doesn't have condition on size of subset. \n",
    "\n",
    "Since **subset sum problem** is NP-complete, its time complexity is $O(2^n)$ in the worst case, where $n$ is the amount of given numbers and the only correct algorithm for it is optimized brute-force (a.k.a. dynamic programming, a.k.a. lazy recursion). \n",
    "\n",
    "Similarly, partial case has time complexity $O({n \\choose k})$ in the best case, where $k$ is required size of subset. \n",
    "\n",
    "$$\\dfrac{n^k}{k^k} \\le {n \\choose k} \\le \\dfrac{n^k}{k!} < \\dfrac{n * e}{k}^k$$"
   ]
  },
  {
   "cell_type": "code",
   "execution_count": 108,
   "metadata": {
    "slideshow": {
     "slide_type": "slide"
    }
   },
   "outputs": [],
   "source": [
    "from itertools import combinations \n",
    "import random \n",
    "\n",
    "\n",
    "def target_sum_bf(amount, target, allowed):\n",
    "    \"\"\"Brute-force algorithm solving subset-sum fixed size problem.\n",
    "    \n",
    "    Time complexity, according to official documentation of itertools.combinations, \n",
    "    is O(k (n choose k)) due to returns of the result combinations. \n",
    "    \n",
    "    Since itertools.combinations is written in C, this function \n",
    "    seems to be the most efficient pure Python algorithm for solving the \n",
    "    given problem in the average case for big n, k. \n",
    "    \"\"\"\n",
    "    for el in combinations(allowed, amount): \n",
    "        if sum(el) == target: \n",
    "            return set(el)\n",
    "    return set()\n",
    "\n",
    "\n",
    "def read_parameters(filename):\n",
    "    \"\"\"Read parameters from file according to conditions\n",
    "    given in task.\n",
    "    \"\"\"\n",
    "    with open(filename, 'r') as file:\n",
    "        amount = int(file.readline())\n",
    "        target = int(file.readline())\n",
    "        allowed = set() \n",
    "        for line in file: \n",
    "            allowed.add(int(line))\n",
    "    return amount, target, allowed"
   ]
  },
  {
   "cell_type": "markdown",
   "metadata": {},
   "source": [
    "### Let's test"
   ]
  },
  {
   "cell_type": "code",
   "execution_count": 104,
   "metadata": {},
   "outputs": [
    {
     "name": "stdout",
     "output_type": "stream",
     "text": [
      "(3, 22, {1, 2, 3, 34, 42, 76, 19, 51, 22, 89})\n",
      "(3, 59, {69, 73, 59, 84, 53, 25, 27, 60, 29, 95})\n"
     ]
    }
   ],
   "source": [
    "def generate_correct_parameters(n, k, save_filename=None):\n",
    "    \"\"\"Generate random parameters for the subset sum fixed size problem, \n",
    "    where presence of required subset is guaranteed.\"\"\"\n",
    "    target = random.randrange(n, n ** 2)\n",
    "    res = set(range(1, k))\n",
    "    res.add(target - sum(res))\n",
    "    for _ in range(n-k):\n",
    "        while (tmp := random.randrange(1, n ** 2)) in res:\n",
    "            pass\n",
    "        res.add(tmp)\n",
    "        \n",
    "    if save_filename is not None: \n",
    "        with open(save_filename, 'w') as file: \n",
    "            print(k, target, *res, sep='\\n', file=file, end='')\n",
    "    return k, target, res \n",
    "\n",
    "\n",
    "def generate_parameters(n, k, save_filename=None):\n",
    "    \"\"\"Generate random parameters for the subset sum fixed size problem.\"\"\"\n",
    "    target = random.randrange(n, n**2)\n",
    "    res = set() \n",
    "    for _ in range(n):\n",
    "        while (tmp := random.randrange(1, n ** 2)) in res:\n",
    "            pass\n",
    "        res.add(tmp)\n",
    "    \n",
    "    if save_filename is not None: \n",
    "        with open(save_filename, 'w') as file: \n",
    "            print(k, target, *res, sep='\\n', file=file, end='')\n",
    "            \n",
    "    return k, target, res\n",
    "    \n",
    "\n",
    "print(generate_correct_parameters(10, 3, save_filename='input.txt'))\n",
    "print(generate_parameters(10, 3))"
   ]
  },
  {
   "cell_type": "markdown",
   "metadata": {},
   "source": [
    "### Results of experiment\n",
    "\n",
    "As expected, time function has exponential and polynomial growth corresponding to k and n respectively. \n",
    "We can observe that even for $n=40$ and $k=8$ algorithm takes quite much time to compute (50 seconds). \n",
    "\n"
   ]
  },
  {
   "cell_type": "code",
   "execution_count": 106,
   "metadata": {
    "slideshow": {
     "slide_type": "slide"
    }
   },
   "outputs": [
    {
     "data": {
      "image/png": "[encoded data removed]",
      "text/plain": [
       "<Figure size 864x720 with 1 Axes>"
      ]
     },
     "metadata": {
      "needs_background": "light"
     },
     "output_type": "display_data"
    }
   ],
   "source": [
    "import matplotlib.pyplot as plt \n",
    "\n",
    "plt.figure(figsize=(12, 10))\n",
    "\n",
    "x = np.arange(10, 40, 2)\n",
    "\n",
    "for k in [3, 4, 5, 6, 8]:\n",
    "    y_k = []    \n",
    "    for n in x:\n",
    "        _, target, allowed = generate_parameters(n, k)\n",
    "        start = time.time() \n",
    "        target_sum_bf(k, target, allowed)\n",
    "        y_k.append(time.time() - start)\n",
    "    \n",
    "    plt.plot(x, y_k, label=f'k={k}')\n",
    "\n",
    "plt.ylabel('working time, sec')\n",
    "plt.xlabel('n')\n",
    "plt.legend(loc='best')\n",
    "plt.show()"
   ]
  },
  {
   "cell_type": "markdown",
   "metadata": {},
   "source": [
    "## Let's try c++ version"
   ]
  },
  {
   "cell_type": "code",
   "execution_count": 1,
   "metadata": {
    "scrolled": false
   },
   "outputs": [
    {
     "name": "stdout",
     "output_type": "stream",
     "text": [
      "\u001b[38;5;238m───────┬────────────────────────────────────────────────────────────────────────\u001b[0m\r\n",
      "       \u001b[38;5;238m│ \u001b[0mFile: \u001b[1m./task3.cpp\u001b[0m\r\n",
      "\u001b[38;5;238m───────┼────────────────────────────────────────────────────────────────────────\u001b[0m\r\n",
      "\u001b[38;5;238m   1\u001b[0m   \u001b[38;5;238m│\u001b[0m \u001b[38;2;167;29;93m#include\u001b[0m\u001b[38;2;51;51;51m \u001b[0m\u001b[38;2;24;54;145m<\u001b[0m\u001b[38;2;24;54;145miostream\u001b[0m\u001b[38;2;24;54;145m>\u001b[0m\r\n",
      "\u001b[38;5;238m   2\u001b[0m \u001b[31m_\u001b[0m \u001b[38;5;238m│\u001b[0m \u001b[38;2;167;29;93m#include\u001b[0m\u001b[38;2;51;51;51m \u001b[0m\u001b[38;2;24;54;145m<\u001b[0m\u001b[38;2;24;54;145mfstream\u001b[0m\u001b[38;2;24;54;145m>\u001b[0m\r\n",
      "\u001b[38;5;238m   3\u001b[0m   \u001b[38;5;238m│\u001b[0m \u001b[38;2;167;29;93m#include\u001b[0m\u001b[38;2;51;51;51m \u001b[0m\u001b[38;2;24;54;145m<\u001b[0m\u001b[38;2;24;54;145mmap\u001b[0m\u001b[38;2;24;54;145m>\u001b[0m\r\n",
      "\u001b[38;5;238m   4\u001b[0m   \u001b[38;5;238m│\u001b[0m \u001b[38;2;167;29;93m#include\u001b[0m\u001b[38;2;51;51;51m \u001b[0m\u001b[38;2;24;54;145m<\u001b[0m\u001b[38;2;24;54;145mvector\u001b[0m\u001b[38;2;24;54;145m>\u001b[0m\r\n",
      "\u001b[38;5;238m   5\u001b[0m   \u001b[38;5;238m│\u001b[0m \u001b[38;2;167;29;93m#include\u001b[0m\u001b[38;2;51;51;51m \u001b[0m\u001b[38;2;24;54;145m<\u001b[0m\u001b[38;2;24;54;145mtuple\u001b[0m\u001b[38;2;24;54;145m>\u001b[0m\r\n",
      "\u001b[38;5;238m   6\u001b[0m   \u001b[38;5;238m│\u001b[0m \u001b[38;2;167;29;93m#include\u001b[0m\u001b[38;2;51;51;51m \u001b[0m\u001b[38;2;24;54;145m<\u001b[0m\u001b[38;2;24;54;145malgorithm\u001b[0m\u001b[38;2;24;54;145m>\u001b[0m\r\n",
      "\u001b[38;5;238m   7\u001b[0m   \u001b[38;5;238m│\u001b[0m \r\n",
      "\u001b[38;5;238m   8\u001b[0m   \u001b[38;5;238m│\u001b[0m \u001b[38;2;150;152;150m//\u001b[0m\u001b[38;2;150;152;150m map <(n, k, target_sum)>\u001b[0m\r\n",
      "\u001b[38;5;238m   9\u001b[0m   \u001b[38;5;238m│\u001b[0m \u001b[38;2;51;51;51mstd\u001b[0m\u001b[38;2;51;51;51m::\u001b[0m\u001b[38;2;51;51;51mmap\u001b[0m\u001b[38;2;51;51;51m<\u001b[0m\u001b[38;2;51;51;51mstd\u001b[0m\u001b[38;2;51;51;51m::\u001b[0m\u001b[38;2;51;51;51mtuple\u001b[0m\u001b[38;2;51;51;51m<\u001b[0m\u001b[38;2;167;29;93mint\u001b[0m\u001b[38;2;51;51;51m,\u001b[0m\u001b[38;2;51;51;51m \u001b[0m\u001b[38;2;167;29;93mint\u001b[0m\u001b[38;2;51;51;51m,\u001b[0m\u001b[38;2;51;51;51m \u001b[0m\u001b[38;2;167;29;93mint\u001b[0m\u001b[38;2;51;51;51m>\u001b[0m\u001b[38;2;51;51;51m,\u001b[0m\u001b[38;2;51;51;51m std\u001b[0m\u001b[38;2;51;51;51m::\u001b[0m\u001b[38;2;51;51;51mvector\u001b[0m\u001b[38;2;51;51;51m<\u001b[0m\u001b[38;2;167;29;93mint\u001b[0m\u001b[38;2;51;51;51m>\u001b[0m\u001b[38;2;51;51;51m>\u001b[0m\u001b[38;2;51;51;51m __cache\u001b[0m\u001b[38;2;51;51;51m;\u001b[0m\r\n",
      "\u001b[38;5;238m  10\u001b[0m   \u001b[38;5;238m│\u001b[0m \r\n",
      "\u001b[38;5;238m  11\u001b[0m   \u001b[38;5;238m│\u001b[0m \r\n",
      "\u001b[38;5;238m  12\u001b[0m   \u001b[38;5;238m│\u001b[0m \u001b[38;2;150;152;150m//\u001b[0m\u001b[38;2;150;152;150m auxiliary recursive function\u001b[0m\r\n",
      "\u001b[38;5;238m  13\u001b[0m   \u001b[38;5;238m│\u001b[0m \u001b[38;2;51;51;51mstd\u001b[0m\u001b[38;2;51;51;51m::\u001b[0m\u001b[38;2;51;51;51mvector\u001b[0m\u001b[38;2;51;51;51m<\u001b[0m\u001b[38;2;167;29;93mint\u001b[0m\u001b[38;2;51;51;51m>\u001b[0m\u001b[38;2;51;51;51m \u001b[0m\u001b[38;2;121;93;163m_target_sum\u001b[0m\u001b[38;2;51;51;51m(\u001b[0m\u001b[38;2;167;29;93mint\u001b[0m\u001b[38;2;51;51;51m \u001b[0m\u001b[38;2;0;134;179mn\u001b[0m\u001b[38;2;51;51;51m,\u001b[0m\u001b[38;2;51;51;51m \u001b[0m\u001b[38;2;167;29;93mint\u001b[0m\u001b[38;2;51;51;51m \u001b[0m\u001b[38;2;0;134;179mk\u001b[0m\u001b[38;2;51;51;51m,\u001b[0m\u001b[38;2;51;51;51m \u001b[0m\u001b[38;2;167;29;93mint\u001b[0m\u001b[38;2;51;51;51m \u001b[0m\u001b[38;2;0;134;179mtarget\u001b[0m\u001b[38;2;51;51;51m,\u001b[0m\u001b[38;2;51;51;51m std\u001b[0m\u001b[38;2;51;51;51m::\u001b[0m\u001b[38;2;51;51;51mvector\u001b[0m\u001b[38;2;51;51;51m<\u001b[0m\u001b[38;2;167;29;93mint\u001b[0m\u001b[38;2;51;51;51m>\u001b[0m\u001b[38;2;51;51;51m\u001b[0m\r\n",
      "\u001b[38;5;238m    \u001b[0m   \u001b[38;5;238m│\u001b[0m \u001b[38;2;51;51;51m \u001b[0m\u001b[38;2;0;134;179mallowed\u001b[0m\u001b[38;2;51;51;51m)\u001b[0m\u001b[38;2;51;51;51m;\u001b[0m\r\n",
      "\u001b[38;5;238m  14\u001b[0m   \u001b[38;5;238m│\u001b[0m \r\n",
      "\u001b[38;5;238m  15\u001b[0m   \u001b[38;5;238m│\u001b[0m \u001b[38;2;150;152;150m/*\u001b[0m\u001b[38;2;150;152;150m Solve subset sum fixed size problem using lazy recursion.\u001b[0m\r\n",
      "\u001b[38;5;238m  16\u001b[0m   \u001b[38;5;238m│\u001b[0m \u001b[38;2;150;152;150m *\u001b[0m\r\n",
      "\u001b[38;5;238m  17\u001b[0m   \u001b[38;5;238m│\u001b[0m \u001b[38;2;150;152;150m * @param n - amount of least numbers from $allowed$, which function ca\u001b[0m\r\n",
      "\u001b[38;5;238m    \u001b[0m   \u001b[38;5;238m│\u001b[0m \u001b[38;2;150;152;150mn use\u001b[0m\r\n",
      "\u001b[38;5;238m  18\u001b[0m   \u001b[38;5;238m│\u001b[0m \u001b[38;2;150;152;150m * @param k - required size of subset\u001b[0m\r\n",
      "\u001b[38;5;238m  19\u001b[0m   \u001b[38;5;238m│\u001b[0m \u001b[38;2;150;152;150m * @param target - target sum\u001b[0m\r\n",
      "\u001b[38;5;238m  20\u001b[0m   \u001b[38;5;238m│\u001b[0m \u001b[38;2;150;152;150m * @param allowed - constant array of allowed numbers\u001b[0m\r\n",
      "\u001b[38;5;238m  21\u001b[0m   \u001b[38;5;238m│\u001b[0m \u001b[38;2;150;152;150m \u001b[0m\u001b[38;2;150;152;150m*/\u001b[0m\r\n",
      "\u001b[38;5;238m  22\u001b[0m   \u001b[38;5;238m│\u001b[0m \u001b[38;2;51;51;51mstd\u001b[0m\u001b[38;2;51;51;51m::\u001b[0m\u001b[38;2;51;51;51mvector\u001b[0m\u001b[38;2;51;51;51m<\u001b[0m\u001b[38;2;167;29;93mint\u001b[0m\u001b[38;2;51;51;51m>\u001b[0m\u001b[38;2;51;51;51m \u001b[0m\u001b[38;2;121;93;163mtarget_sum\u001b[0m\u001b[38;2;51;51;51m(\u001b[0m\u001b[38;2;167;29;93mint\u001b[0m\u001b[38;2;51;51;51m \u001b[0m\u001b[38;2;0;134;179mn\u001b[0m\u001b[38;2;51;51;51m,\u001b[0m\u001b[38;2;51;51;51m \u001b[0m\u001b[38;2;167;29;93mint\u001b[0m\u001b[38;2;51;51;51m \u001b[0m\u001b[38;2;0;134;179mk\u001b[0m\u001b[38;2;51;51;51m,\u001b[0m\u001b[38;2;51;51;51m \u001b[0m\u001b[38;2;167;29;93mint\u001b[0m\u001b[38;2;51;51;51m \u001b[0m\u001b[38;2;0;134;179mtarget\u001b[0m\u001b[38;2;51;51;51m,\u001b[0m\u001b[38;2;51;51;51m std\u001b[0m\u001b[38;2;51;51;51m::\u001b[0m\u001b[38;2;51;51;51mvector\u001b[0m\u001b[38;2;51;51;51m<\u001b[0m\u001b[38;2;167;29;93mint\u001b[0m\u001b[38;2;51;51;51m>\u001b[0m\u001b[38;2;51;51;51m \u001b[0m\u001b[38;2;0;134;179m\u001b[0m\r\n",
      "\u001b[38;5;238m    \u001b[0m   \u001b[38;5;238m│\u001b[0m \u001b[38;2;0;134;179mallowed\u001b[0m\u001b[38;2;51;51;51m)\u001b[0m\u001b[38;2;51;51;51m;\u001b[0m\r\n",
      "\u001b[38;5;238m  23\u001b[0m   \u001b[38;5;238m│\u001b[0m \r\n",
      "\u001b[38;5;238m  24\u001b[0m   \u001b[38;5;238m│\u001b[0m \r\n",
      "\u001b[38;5;238m  25\u001b[0m   \u001b[38;5;238m│\u001b[0m \u001b[38;2;167;29;93mint\u001b[0m\u001b[38;2;51;51;51m \u001b[0m\u001b[38;2;121;93;163mmain\u001b[0m\u001b[38;2;51;51;51m(\u001b[0m\u001b[38;2;167;29;93mint\u001b[0m\u001b[38;2;51;51;51m \u001b[0m\u001b[38;2;0;134;179margc\u001b[0m\u001b[38;2;51;51;51m,\u001b[0m\u001b[38;2;51;51;51m \u001b[0m\u001b[38;2;167;29;93mchar\u001b[0m\u001b[38;2;51;51;51m \u001b[0m\u001b[38;2;167;29;93mconst\u001b[0m\u001b[38;2;51;51;51m \u001b[0m\u001b[38;2;167;29;93m*\u001b[0m\u001b[38;2;0;134;179margv\u001b[0m\u001b[38;2;51;51;51m[\u001b[0m\u001b[38;2;51;51;51m]\u001b[0m\u001b[38;2;51;51;51m)\u001b[0m\u001b[38;2;51;51;51m \u001b[0m\u001b[38;2;51;51;51m{\u001b[0m\r\n",
      "\u001b[38;5;238m  26\u001b[0m   \u001b[38;5;238m│\u001b[0m \u001b[38;2;51;51;51m  std\u001b[0m\u001b[38;2;51;51;51m::\u001b[0m\u001b[38;2;51;51;51mstring filename \u001b[0m\u001b[38;2;167;29;93m=\u001b[0m\u001b[38;2;51;51;51m \u001b[0m\u001b[38;2;24;54;145m\"\u001b[0m\u001b[38;2;24;54;145minput.txt\u001b[0m\u001b[38;2;24;54;145m\"\u001b[0m\u001b[38;2;51;51;51m;\u001b[0m\r\n",
      "\u001b[38;5;238m  27\u001b[0m   \u001b[38;5;238m│\u001b[0m \u001b[38;2;51;51;51m  \u001b[0m\u001b[38;2;167;29;93mif\u001b[0m\u001b[38;2;51;51;51m \u001b[0m\u001b[38;2;51;51;51m(\u001b[0m\u001b[38;2;51;51;51margc \u001b[0m\u001b[38;2;167;29;93m>\u001b[0m\u001b[38;2;51;51;51m \u001b[0m\u001b[38;2;0;134;179m1\u001b[0m\u001b[38;2;51;51;51m)\u001b[0m\r\n",
      "\u001b[38;5;238m  28\u001b[0m   \u001b[38;5;238m│\u001b[0m \u001b[38;2;51;51;51m    filename \u001b[0m\u001b[38;2;167;29;93m=\u001b[0m\u001b[38;2;51;51;51m argv\u001b[0m\u001b[38;2;51;51;51m[\u001b[0m\u001b[38;2;0;134;179m1\u001b[0m\u001b[38;2;51;51;51m]\u001b[0m\u001b[38;2;51;51;51m;\u001b[0m\r\n",
      "\u001b[38;5;238m  29\u001b[0m   \u001b[38;5;238m│\u001b[0m \r\n",
      "\u001b[38;5;238m  30\u001b[0m   \u001b[38;5;238m│\u001b[0m \u001b[38;2;51;51;51m  std\u001b[0m\u001b[38;2;51;51;51m::\u001b[0m\u001b[38;2;51;51;51mifstream \u001b[0m\u001b[38;2;0;134;179minfile\u001b[0m\u001b[38;2;51;51;51m \u001b[0m\u001b[38;2;51;51;51m(\u001b[0m\u001b[38;2;51;51;51mfilename\u001b[0m\u001b[38;2;51;51;51m,\u001b[0m\u001b[38;2;51;51;51m std\u001b[0m\u001b[38;2;51;51;51m::\u001b[0m\u001b[38;2;51;51;51mifstream\u001b[0m\u001b[38;2;51;51;51m::\u001b[0m\u001b[38;2;51;51;51min\u001b[0m\u001b[38;2;51;51;51m)\u001b[0m\u001b[38;2;51;51;51m;\u001b[0m\r\n",
      "\u001b[38;5;238m  31\u001b[0m   \u001b[38;5;238m│\u001b[0m \u001b[38;2;51;51;51m  \u001b[0m\u001b[38;2;167;29;93mif\u001b[0m\u001b[38;2;51;51;51m \u001b[0m\u001b[38;2;51;51;51m(\u001b[0m\u001b[38;2;167;29;93m!\u001b[0m\u001b[38;2;51;51;51minfile\u001b[0m\u001b[38;2;51;51;51m)\u001b[0m\u001b[38;2;51;51;51m \u001b[0m\u001b[38;2;51;51;51m{\u001b[0m\r\n",
      "\u001b[38;5;238m  32\u001b[0m   \u001b[38;5;238m│\u001b[0m \u001b[38;2;51;51;51m    std\u001b[0m\u001b[38;2;51;51;51m::\u001b[0m\u001b[38;2;51;51;51mcout \u001b[0m\u001b[38;2;167;29;93m<<\u001b[0m\u001b[38;2;51;51;51m \u001b[0m\u001b[38;2;24;54;145m\"\u001b[0m\u001b[38;2;24;54;145mFile not found\u001b[0m\u001b[38;2;24;54;145m\"\u001b[0m\u001b[38;2;51;51;51m \u001b[0m\u001b[38;2;167;29;93m<<\u001b[0m\u001b[38;2;51;51;51m \u001b[0m\u001b[38;2;24;54;145m'\u001b[0m\u001b[38;2;24;54;145m\\n\u001b[0m\u001b[38;2;24;54;145m'\u001b[0m\u001b[38;2;51;51;51m;\u001b[0m\r\n",
      "\u001b[38;5;238m  33\u001b[0m   \u001b[38;5;238m│\u001b[0m \u001b[38;2;51;51;51m    \u001b[0m\u001b[38;2;167;29;93mreturn\u001b[0m\u001b[38;2;51;51;51m \u001b[0m\u001b[38;2;0;134;179m0\u001b[0m\u001b[38;2;51;51;51m;\u001b[0m\r\n",
      "\u001b[38;5;238m  34\u001b[0m   \u001b[38;5;238m│\u001b[0m \u001b[38;2;51;51;51m  \u001b[0m\u001b[38;2;51;51;51m}\u001b[0m\r\n",
      "\u001b[38;5;238m  35\u001b[0m   \u001b[38;5;238m│\u001b[0m \u001b[38;2;51;51;51m  \u001b[0m\u001b[38;2;167;29;93mint\u001b[0m\u001b[38;2;51;51;51m k\u001b[0m\u001b[38;2;51;51;51m,\u001b[0m\u001b[38;2;51;51;51m n\u001b[0m\u001b[38;2;51;51;51m,\u001b[0m\u001b[38;2;51;51;51m target\u001b[0m\u001b[38;2;51;51;51m;\u001b[0m\r\n",
      "\u001b[38;5;238m  36\u001b[0m   \u001b[38;5;238m│\u001b[0m \u001b[38;2;51;51;51m  std\u001b[0m\u001b[38;2;51;51;51m::\u001b[0m\u001b[38;2;51;51;51mvector\u001b[0m\u001b[38;2;51;51;51m<\u001b[0m\u001b[38;2;167;29;93mint\u001b[0m\u001b[38;2;51;51;51m>\u001b[0m\u001b[38;2;51;51;51m allowed\u001b[0m\u001b[38;2;51;51;51m;\u001b[0m\r\n",
      "\u001b[38;5;238m  37\u001b[0m   \u001b[38;5;238m│\u001b[0m \r\n",
      "\u001b[38;5;238m  38\u001b[0m   \u001b[38;5;238m│\u001b[0m \u001b[38;2;51;51;51m  infile \u001b[0m\u001b[38;2;167;29;93m>>\u001b[0m\u001b[38;2;51;51;51m k\u001b[0m\u001b[38;2;51;51;51m;\u001b[0m\r\n",
      "\u001b[38;5;238m  39\u001b[0m   \u001b[38;5;238m│\u001b[0m \u001b[38;2;51;51;51m  infile \u001b[0m\u001b[38;2;167;29;93m>>\u001b[0m\u001b[38;2;51;51;51m target\u001b[0m\u001b[38;2;51;51;51m;\u001b[0m\r\n",
      "\u001b[38;5;238m  40\u001b[0m   \u001b[38;5;238m│\u001b[0m \u001b[38;2;51;51;51m  \u001b[0m\u001b[38;2;167;29;93mwhile\u001b[0m\u001b[38;2;51;51;51m \u001b[0m\u001b[38;2;51;51;51m(\u001b[0m\u001b[38;2;0;134;179m1\u001b[0m\u001b[38;2;51;51;51m)\u001b[0m\u001b[38;2;51;51;51m \u001b[0m\u001b[38;2;51;51;51m{\u001b[0m\r\n",
      "\u001b[38;5;238m  41\u001b[0m   \u001b[38;5;238m│\u001b[0m \u001b[38;2;51;51;51m    \u001b[0m\u001b[38;2;167;29;93mint\u001b[0m\u001b[38;2;51;51;51m tmp\u001b[0m\u001b[38;2;51;51;51m;\u001b[0m\r\n",
      "\u001b[38;5;238m  42\u001b[0m   \u001b[38;5;238m│\u001b[0m \u001b[38;2;51;51;51m    infile \u001b[0m\u001b[38;2;167;29;93m>>\u001b[0m\u001b[38;2;51;51;51m tmp\u001b[0m\u001b[38;2;51;51;51m;\u001b[0m\r\n",
      "\u001b[38;5;238m  43\u001b[0m   \u001b[38;5;238m│\u001b[0m \u001b[38;2;51;51;51m    \u001b[0m\u001b[38;2;167;29;93mif\u001b[0m\u001b[38;2;51;51;51m \u001b[0m\u001b[38;2;51;51;51m(\u001b[0m\u001b[38;2;51;51;51minfile\u001b[0m\u001b[38;2;51;51;51m.\u001b[0m\u001b[38;2;0;134;179meof\u001b[0m\u001b[38;2;51;51;51m(\u001b[0m\u001b[38;2;51;51;51m)\u001b[0m\u001b[38;2;51;51;51m)\u001b[0m\r\n",
      "\u001b[38;5;238m  44\u001b[0m   \u001b[38;5;238m│\u001b[0m \u001b[38;2;51;51;51m      \u001b[0m\u001b[38;2;167;29;93mbreak\u001b[0m\u001b[38;2;51;51;51m;\u001b[0m\r\n",
      "\u001b[38;5;238m  45\u001b[0m   \u001b[38;5;238m│\u001b[0m \u001b[38;2;51;51;51m    n\u001b[0m\u001b[38;2;167;29;93m++\u001b[0m\u001b[38;2;51;51;51m;\u001b[0m\r\n",
      "\u001b[38;5;238m  46\u001b[0m   \u001b[38;5;238m│\u001b[0m \u001b[38;2;51;51;51m    allowed\u001b[0m\u001b[38;2;51;51;51m.\u001b[0m\u001b[38;2;0;134;179mpush_back\u001b[0m\u001b[38;2;51;51;51m(\u001b[0m\u001b[38;2;51;51;51mtmp\u001b[0m\u001b[38;2;51;51;51m)\u001b[0m\u001b[38;2;51;51;51m;\u001b[0m\r\n",
      "\u001b[38;5;238m  47\u001b[0m   \u001b[38;5;238m│\u001b[0m \u001b[38;2;51;51;51m  \u001b[0m\u001b[38;2;51;51;51m}\u001b[0m\r\n",
      "\u001b[38;5;238m  48\u001b[0m   \u001b[38;5;238m│\u001b[0m \r\n",
      "\u001b[38;5;238m  49\u001b[0m   \u001b[38;5;238m│\u001b[0m \u001b[38;2;51;51;51m  \u001b[0m\u001b[38;2;150;152;150m//\u001b[0m\u001b[38;2;150;152;150m sort in order to be able to use binary search\u001b[0m\r\n",
      "\u001b[38;5;238m  50\u001b[0m   \u001b[38;5;238m│\u001b[0m \u001b[38;2;51;51;51m  \u001b[0m\u001b[38;2;0;134;179mstd\u001b[0m\u001b[38;2;0;134;179m::\u001b[0m\u001b[38;2;0;134;179msort\u001b[0m\u001b[38;2;51;51;51m(\u001b[0m\u001b[38;2;51;51;51mallowed\u001b[0m\u001b[38;2;51;51;51m.\u001b[0m\u001b[38;2;0;134;179mbegin\u001b[0m\u001b[38;2;51;51;51m(\u001b[0m\u001b[38;2;51;51;51m)\u001b[0m\u001b[38;2;51;51;51m,\u001b[0m\u001b[38;2;51;51;51m allowed\u001b[0m\u001b[38;2;51;51;51m.\u001b[0m\u001b[38;2;0;134;179mend\u001b[0m\u001b[38;2;51;51;51m(\u001b[0m\u001b[38;2;51;51;51m)\u001b[0m\u001b[38;2;51;51;51m)\u001b[0m\u001b[38;2;51;51;51m;\u001b[0m\r\n",
      "\u001b[38;5;238m  51\u001b[0m   \u001b[38;5;238m│\u001b[0m \r\n",
      "\u001b[38;5;238m  52\u001b[0m   \u001b[38;5;238m│\u001b[0m \u001b[38;2;51;51;51m  \u001b[0m\u001b[38;2;167;29;93mauto\u001b[0m\u001b[38;2;51;51;51m res \u001b[0m\u001b[38;2;167;29;93m=\u001b[0m\u001b[38;2;51;51;51m \u001b[0m\u001b[38;2;0;134;179mtarget_sum\u001b[0m\u001b[38;2;51;51;51m(\u001b[0m\u001b[38;2;51;51;51mn\u001b[0m\u001b[38;2;51;51;51m,\u001b[0m\u001b[38;2;51;51;51m k\u001b[0m\u001b[38;2;51;51;51m,\u001b[0m\u001b[38;2;51;51;51m target\u001b[0m\u001b[38;2;51;51;51m,\u001b[0m\u001b[38;2;51;51;51m allowed\u001b[0m\u001b[38;2;51;51;51m)\u001b[0m\u001b[38;2;51;51;51m;\u001b[0m\r\n",
      "\u001b[38;5;238m  53\u001b[0m   \u001b[38;5;238m│\u001b[0m \r\n",
      "\u001b[38;5;238m  54\u001b[0m   \u001b[38;5;238m│\u001b[0m \u001b[38;2;51;51;51m  \u001b[0m\u001b[38;2;167;29;93mfor\u001b[0m\u001b[38;2;51;51;51m \u001b[0m\u001b[38;2;51;51;51m(\u001b[0m\u001b[38;2;167;29;93mauto\u001b[0m\u001b[38;2;51;51;51m el \u001b[0m\u001b[38;2;167;29;93m:\u001b[0m\u001b[38;2;51;51;51m res\u001b[0m\u001b[38;2;51;51;51m)\u001b[0m\u001b[38;2;51;51;51m \u001b[0m\u001b[38;2;51;51;51m{\u001b[0m\r\n",
      "\u001b[38;5;238m  55\u001b[0m   \u001b[38;5;238m│\u001b[0m \u001b[38;2;51;51;51m    std\u001b[0m\u001b[38;2;51;51;51m::\u001b[0m\u001b[38;2;51;51;51mcout \u001b[0m\u001b[38;2;167;29;93m<<\u001b[0m\u001b[38;2;51;51;51m el \u001b[0m\u001b[38;2;167;29;93m<<\u001b[0m\u001b[38;2;51;51;51m \u001b[0m\u001b[38;2;24;54;145m'\u001b[0m\u001b[38;2;24;54;145m\\n\u001b[0m\u001b[38;2;24;54;145m'\u001b[0m\u001b[38;2;51;51;51m;\u001b[0m\r\n",
      "\u001b[38;5;238m  56\u001b[0m   \u001b[38;5;238m│\u001b[0m \u001b[38;2;51;51;51m  \u001b[0m\u001b[38;2;51;51;51m}\u001b[0m\r\n",
      "\u001b[38;5;238m  57\u001b[0m   \u001b[38;5;238m│\u001b[0m \r\n",
      "\u001b[38;5;238m  58\u001b[0m   \u001b[38;5;238m│\u001b[0m \u001b[38;2;51;51;51m  \u001b[0m\u001b[38;2;167;29;93mreturn\u001b[0m\u001b[38;2;51;51;51m \u001b[0m\u001b[38;2;0;134;179m0\u001b[0m\u001b[38;2;51;51;51m;\u001b[0m\r\n",
      "\u001b[38;5;238m  59\u001b[0m   \u001b[38;5;238m│\u001b[0m \u001b[38;2;51;51;51m}\u001b[0m\r\n",
      "\u001b[38;5;238m  60\u001b[0m   \u001b[38;5;238m│\u001b[0m \r\n",
      "\u001b[38;5;238m  61\u001b[0m   \u001b[38;5;238m│\u001b[0m \u001b[38;2;51;51;51mstd\u001b[0m\u001b[38;2;51;51;51m::\u001b[0m\u001b[38;2;51;51;51mvector\u001b[0m\u001b[38;2;51;51;51m<\u001b[0m\u001b[38;2;167;29;93mint\u001b[0m\u001b[38;2;51;51;51m>\u001b[0m\u001b[38;2;51;51;51m \u001b[0m\u001b[38;2;121;93;163mtarget_sum\u001b[0m\u001b[38;2;51;51;51m(\u001b[0m\u001b[38;2;167;29;93mint\u001b[0m\u001b[38;2;51;51;51m \u001b[0m\u001b[38;2;0;134;179mn\u001b[0m\u001b[38;2;51;51;51m,\u001b[0m\u001b[38;2;51;51;51m \u001b[0m\u001b[38;2;167;29;93mint\u001b[0m\u001b[38;2;51;51;51m \u001b[0m\u001b[38;2;0;134;179mk\u001b[0m\u001b[38;2;51;51;51m,\u001b[0m\u001b[38;2;51;51;51m \u001b[0m\u001b[38;2;167;29;93mint\u001b[0m\u001b[38;2;51;51;51m \u001b[0m\u001b[38;2;0;134;179mtarget\u001b[0m\u001b[38;2;51;51;51m,\u001b[0m\u001b[38;2;51;51;51m std\u001b[0m\u001b[38;2;51;51;51m::\u001b[0m\u001b[38;2;51;51;51mvector\u001b[0m\u001b[38;2;51;51;51m<\u001b[0m\u001b[38;2;167;29;93mint\u001b[0m\u001b[38;2;51;51;51m>\u001b[0m\u001b[38;2;51;51;51m \u001b[0m\u001b[38;2;0;134;179m\u001b[0m\r\n",
      "\u001b[38;5;238m    \u001b[0m   \u001b[38;5;238m│\u001b[0m \u001b[38;2;0;134;179mallowed\u001b[0m\u001b[38;2;51;51;51m)\u001b[0m\u001b[38;2;51;51;51m{\u001b[0m\r\n",
      "\u001b[38;5;238m  62\u001b[0m   \u001b[38;5;238m│\u001b[0m \r\n",
      "\u001b[38;5;238m  63\u001b[0m   \u001b[38;5;238m│\u001b[0m \u001b[38;2;51;51;51m  \u001b[0m\u001b[38;2;150;152;150m//\u001b[0m\u001b[38;2;150;152;150m caching which provides lazy recursion\u001b[0m\r\n",
      "\u001b[38;5;238m  64\u001b[0m   \u001b[38;5;238m│\u001b[0m \u001b[38;2;51;51;51m  \u001b[0m\u001b[38;2;167;29;93mauto\u001b[0m\u001b[38;2;51;51;51m pars \u001b[0m\u001b[38;2;167;29;93m=\u001b[0m\u001b[38;2;51;51;51m \u001b[0m\u001b[38;2;0;134;179mstd\u001b[0m\u001b[38;2;0;134;179m::\u001b[0m\u001b[38;2;0;134;179mmake_tuple\u001b[0m\u001b[38;2;51;51;51m(\u001b[0m\u001b[38;2;51;51;51mn\u001b[0m\u001b[38;2;51;51;51m,\u001b[0m\u001b[38;2;51;51;51m k\u001b[0m\u001b[38;2;51;51;51m,\u001b[0m\u001b[38;2;51;51;51m target\u001b[0m\u001b[38;2;51;51;51m)\u001b[0m\u001b[38;2;51;51;51m;\u001b[0m\r\n",
      "\u001b[38;5;238m  65\u001b[0m   \u001b[38;5;238m│\u001b[0m \u001b[38;2;51;51;51m  \u001b[0m\u001b[38;2;167;29;93mauto\u001b[0m\u001b[38;2;51;51;51m cached \u001b[0m\u001b[38;2;167;29;93m=\u001b[0m\u001b[38;2;51;51;51m __cache\u001b[0m\u001b[38;2;51;51;51m.\u001b[0m\u001b[38;2;0;134;179mfind\u001b[0m\u001b[38;2;51;51;51m(\u001b[0m\u001b[38;2;51;51;51mpars\u001b[0m\u001b[38;2;51;51;51m)\u001b[0m\u001b[38;2;51;51;51m;\u001b[0m\r\n",
      "\u001b[38;5;238m  66\u001b[0m   \u001b[38;5;238m│\u001b[0m \u001b[38;2;51;51;51m  \u001b[0m\u001b[38;2;167;29;93mif\u001b[0m\u001b[38;2;51;51;51m \u001b[0m\u001b[38;2;51;51;51m(\u001b[0m\u001b[38;2;51;51;51mcached \u001b[0m\u001b[38;2;167;29;93m==\u001b[0m\u001b[38;2;51;51;51m __cache\u001b[0m\u001b[38;2;51;51;51m.\u001b[0m\u001b[38;2;0;134;179mend\u001b[0m\u001b[38;2;51;51;51m(\u001b[0m\u001b[38;2;51;51;51m)\u001b[0m\u001b[38;2;51;51;51m)\u001b[0m\u001b[38;2;51;51;51m \u001b[0m\u001b[38;2;51;51;51m{\u001b[0m\r\n",
      "\u001b[38;5;238m  67\u001b[0m   \u001b[38;5;238m│\u001b[0m \u001b[38;2;51;51;51m    \u001b[0m\u001b[38;2;167;29;93mauto\u001b[0m\u001b[38;2;51;51;51m res \u001b[0m\u001b[38;2;167;29;93m=\u001b[0m\u001b[38;2;51;51;51m \u001b[0m\u001b[38;2;0;134;179m_target_sum\u001b[0m\u001b[38;2;51;51;51m(\u001b[0m\u001b[38;2;51;51;51mn\u001b[0m\u001b[38;2;51;51;51m,\u001b[0m\u001b[38;2;51;51;51m k\u001b[0m\u001b[38;2;51;51;51m,\u001b[0m\u001b[38;2;51;51;51m target\u001b[0m\u001b[38;2;51;51;51m,\u001b[0m\u001b[38;2;51;51;51m allowed\u001b[0m\u001b[38;2;51;51;51m)\u001b[0m\u001b[38;2;51;51;51m;\u001b[0m\r\n",
      "\u001b[38;5;238m  68\u001b[0m   \u001b[38;5;238m│\u001b[0m \u001b[38;2;51;51;51m    __cache\u001b[0m\u001b[38;2;51;51;51m[\u001b[0m\u001b[38;2;51;51;51mpars\u001b[0m\u001b[38;2;51;51;51m]\u001b[0m\u001b[38;2;51;51;51m \u001b[0m\u001b[38;2;167;29;93m=\u001b[0m\u001b[38;2;51;51;51m res\u001b[0m\u001b[38;2;51;51;51m;\u001b[0m\r\n",
      "\u001b[38;5;238m  69\u001b[0m   \u001b[38;5;238m│\u001b[0m \u001b[38;2;51;51;51m    \u001b[0m\u001b[38;2;167;29;93mreturn\u001b[0m\u001b[38;2;51;51;51m res\u001b[0m\u001b[38;2;51;51;51m;\u001b[0m\r\n",
      "\u001b[38;5;238m  70\u001b[0m   \u001b[38;5;238m│\u001b[0m \u001b[38;2;51;51;51m  \u001b[0m\u001b[38;2;51;51;51m}\u001b[0m\r\n",
      "\u001b[38;5;238m  71\u001b[0m   \u001b[38;5;238m│\u001b[0m \u001b[38;2;51;51;51m  \u001b[0m\u001b[38;2;167;29;93mreturn\u001b[0m\u001b[38;2;51;51;51m cached\u001b[0m\u001b[38;2;51;51;51m->\u001b[0m\u001b[38;2;0;134;179msecond\u001b[0m\u001b[38;2;51;51;51m;\u001b[0m\r\n",
      "\u001b[38;5;238m  72\u001b[0m   \u001b[38;5;238m│\u001b[0m \u001b[38;2;51;51;51m}\u001b[0m\u001b[38;2;51;51;51m;\u001b[0m\r\n",
      "\u001b[38;5;238m  73\u001b[0m   \u001b[38;5;238m│\u001b[0m \r\n",
      "\u001b[38;5;238m  74\u001b[0m   \u001b[38;5;238m│\u001b[0m \r\n",
      "\u001b[38;5;238m  75\u001b[0m   \u001b[38;5;238m│\u001b[0m \u001b[38;2;51;51;51mstd\u001b[0m\u001b[38;2;51;51;51m::\u001b[0m\u001b[38;2;51;51;51mvector\u001b[0m\u001b[38;2;51;51;51m<\u001b[0m\u001b[38;2;167;29;93mint\u001b[0m\u001b[38;2;51;51;51m>\u001b[0m\u001b[38;2;51;51;51m \u001b[0m\u001b[38;2;121;93;163m_target_sum\u001b[0m\u001b[38;2;51;51;51m(\u001b[0m\u001b[38;2;167;29;93mint\u001b[0m\u001b[38;2;51;51;51m \u001b[0m\u001b[38;2;0;134;179mn\u001b[0m\u001b[38;2;51;51;51m,\u001b[0m\u001b[38;2;51;51;51m \u001b[0m\u001b[38;2;167;29;93mint\u001b[0m\u001b[38;2;51;51;51m \u001b[0m\u001b[38;2;0;134;179mk\u001b[0m\u001b[38;2;51;51;51m,\u001b[0m\u001b[38;2;51;51;51m \u001b[0m\u001b[38;2;167;29;93mint\u001b[0m\u001b[38;2;51;51;51m \u001b[0m\u001b[38;2;0;134;179mtarget\u001b[0m\u001b[38;2;51;51;51m,\u001b[0m\u001b[38;2;51;51;51m std\u001b[0m\u001b[38;2;51;51;51m::\u001b[0m\u001b[38;2;51;51;51mvector\u001b[0m\u001b[38;2;51;51;51m<\u001b[0m\u001b[38;2;167;29;93mint\u001b[0m\u001b[38;2;51;51;51m>\u001b[0m\u001b[38;2;51;51;51m\u001b[0m\r\n",
      "\u001b[38;5;238m    \u001b[0m   \u001b[38;5;238m│\u001b[0m \u001b[38;2;51;51;51m \u001b[0m\u001b[38;2;0;134;179mallowed\u001b[0m\u001b[38;2;51;51;51m)\u001b[0m\u001b[38;2;51;51;51m{\u001b[0m\r\n",
      "\u001b[38;5;238m  76\u001b[0m   \u001b[38;5;238m│\u001b[0m \r\n",
      "\u001b[38;5;238m  77\u001b[0m   \u001b[38;5;238m│\u001b[0m \u001b[38;2;51;51;51m  std\u001b[0m\u001b[38;2;51;51;51m::\u001b[0m\u001b[38;2;51;51;51mvector\u001b[0m\u001b[38;2;51;51;51m<\u001b[0m\u001b[38;2;167;29;93mint\u001b[0m\u001b[38;2;51;51;51m>\u001b[0m\u001b[38;2;51;51;51m res\u001b[0m\u001b[38;2;51;51;51m;\u001b[0m\r\n",
      "\u001b[38;5;238m  78\u001b[0m   \u001b[38;5;238m│\u001b[0m \r\n",
      "\u001b[38;5;238m  79\u001b[0m   \u001b[38;5;238m│\u001b[0m \u001b[38;2;51;51;51m  \u001b[0m\u001b[38;2;150;152;150m//\u001b[0m\u001b[38;2;150;152;150m border conditions\u001b[0m\r\n",
      "\u001b[38;5;238m  80\u001b[0m   \u001b[38;5;238m│\u001b[0m \u001b[38;2;51;51;51m  \u001b[0m\u001b[38;2;167;29;93mif\u001b[0m\u001b[38;2;51;51;51m \u001b[0m\u001b[38;2;51;51;51m(\u001b[0m\u001b[38;2;51;51;51mk \u001b[0m\u001b[38;2;51;51;51m<\u001b[0m\u001b[38;2;51;51;51m \u001b[0m\u001b[38;2;0;134;179m1\u001b[0m\u001b[38;2;51;51;51m \u001b[0m\u001b[38;2;167;29;93m||\u001b[0m\u001b[38;2;51;51;51m k \u001b[0m\u001b[38;2;51;51;51m>\u001b[0m\u001b[38;2;51;51;51m n\u001b[0m\u001b[38;2;51;51;51m)\u001b[0m\u001b[38;2;51;51;51m \u001b[0m\u001b[38;2;51;51;51m{\u001b[0m\r\n",
      "\u001b[38;5;238m  81\u001b[0m   \u001b[38;5;238m│\u001b[0m \u001b[38;2;51;51;51m    \u001b[0m\u001b[38;2;167;29;93mreturn\u001b[0m\u001b[38;2;51;51;51m res\u001b[0m\u001b[38;2;51;51;51m;\u001b[0m\r\n",
      "\u001b[38;5;238m  82\u001b[0m   \u001b[38;5;238m│\u001b[0m \u001b[38;2;51;51;51m  \u001b[0m\u001b[38;2;51;51;51m}\u001b[0m\u001b[38;2;51;51;51m \u001b[0m\u001b[38;2;167;29;93melse\u001b[0m\u001b[38;2;51;51;51m \u001b[0m\u001b[38;2;167;29;93mif\u001b[0m\u001b[38;2;51;51;51m \u001b[0m\u001b[38;2;51;51;51m(\u001b[0m\u001b[38;2;51;51;51mk \u001b[0m\u001b[38;2;167;29;93m==\u001b[0m\u001b[38;2;51;51;51m \u001b[0m\u001b[38;2;0;134;179m1\u001b[0m\u001b[38;2;51;51;51m)\u001b[0m\u001b[38;2;51;51;51m \u001b[0m\u001b[38;2;51;51;51m{\u001b[0m\r\n",
      "\u001b[38;5;238m  83\u001b[0m   \u001b[38;5;238m│\u001b[0m \r\n",
      "\u001b[38;5;238m  84\u001b[0m   \u001b[38;5;238m│\u001b[0m \u001b[38;2;51;51;51m    \u001b[0m\u001b[38;2;150;152;150m//\u001b[0m\u001b[38;2;150;152;150m optimization using binary search for the last required number\u001b[0m\r\n",
      "\u001b[38;5;238m  85\u001b[0m   \u001b[38;5;238m│\u001b[0m \u001b[38;2;51;51;51m    \u001b[0m\u001b[38;2;167;29;93mif\u001b[0m\u001b[38;2;51;51;51m \u001b[0m\u001b[38;2;51;51;51m(\u001b[0m\u001b[38;2;0;134;179mstd\u001b[0m\u001b[38;2;0;134;179m::\u001b[0m\u001b[38;2;0;134;179mbinary_search\u001b[0m\u001b[38;2;51;51;51m(\u001b[0m\u001b[38;2;51;51;51mallowed\u001b[0m\u001b[38;2;51;51;51m.\u001b[0m\u001b[38;2;0;134;179mbegin\u001b[0m\u001b[38;2;51;51;51m(\u001b[0m\u001b[38;2;51;51;51m)\u001b[0m\u001b[38;2;51;51;51m,\u001b[0m\u001b[38;2;51;51;51m allowed\u001b[0m\u001b[38;2;51;51;51m.\u001b[0m\u001b[38;2;0;134;179mbegin\u001b[0m\u001b[38;2;51;51;51m(\u001b[0m\u001b[38;2;51;51;51m)\u001b[0m\u001b[38;2;51;51;51m \u001b[0m\u001b[38;2;167;29;93m+\u001b[0m\u001b[38;2;51;51;51m n\u001b[0m\u001b[38;2;51;51;51m,\u001b[0m\u001b[38;2;51;51;51m target\u001b[0m\u001b[38;2;51;51;51m\u001b[0m\r\n",
      "\u001b[38;5;238m    \u001b[0m   \u001b[38;5;238m│\u001b[0m \u001b[38;2;51;51;51m)\u001b[0m\u001b[38;2;51;51;51m)\u001b[0m\u001b[38;2;51;51;51m \u001b[0m\u001b[38;2;51;51;51m{\u001b[0m\r\n",
      "\u001b[38;5;238m  86\u001b[0m   \u001b[38;5;238m│\u001b[0m \u001b[38;2;51;51;51m      res\u001b[0m\u001b[38;2;51;51;51m.\u001b[0m\u001b[38;2;0;134;179mpush_back\u001b[0m\u001b[38;2;51;51;51m(\u001b[0m\u001b[38;2;51;51;51mtarget\u001b[0m\u001b[38;2;51;51;51m)\u001b[0m\u001b[38;2;51;51;51m;\u001b[0m\r\n",
      "\u001b[38;5;238m  87\u001b[0m   \u001b[38;5;238m│\u001b[0m \u001b[38;2;51;51;51m    \u001b[0m\u001b[38;2;51;51;51m}\u001b[0m\r\n",
      "\u001b[38;5;238m  88\u001b[0m   \u001b[38;5;238m│\u001b[0m \u001b[38;2;51;51;51m    \u001b[0m\u001b[38;2;167;29;93mreturn\u001b[0m\u001b[38;2;51;51;51m res\u001b[0m\u001b[38;2;51;51;51m;\u001b[0m\r\n",
      "\u001b[38;5;238m  89\u001b[0m   \u001b[38;5;238m│\u001b[0m \u001b[38;2;51;51;51m  \u001b[0m\u001b[38;2;51;51;51m}\u001b[0m\r\n",
      "\u001b[38;5;238m  90\u001b[0m   \u001b[38;5;238m│\u001b[0m \r\n",
      "\u001b[38;5;238m  91\u001b[0m   \u001b[38;5;238m│\u001b[0m \u001b[38;2;51;51;51m  \u001b[0m\u001b[38;2;150;152;150m//\u001b[0m\u001b[38;2;150;152;150m try find same sum without the last number\u001b[0m\r\n",
      "\u001b[38;5;238m  92\u001b[0m   \u001b[38;5;238m│\u001b[0m \u001b[38;2;51;51;51m  res \u001b[0m\u001b[38;2;167;29;93m=\u001b[0m\u001b[38;2;51;51;51m \u001b[0m\u001b[38;2;0;134;179mtarget_sum\u001b[0m\u001b[38;2;51;51;51m(\u001b[0m\u001b[38;2;51;51;51mn\u001b[0m\u001b[38;2;167;29;93m-\u001b[0m\u001b[38;2;0;134;179m1\u001b[0m\u001b[38;2;51;51;51m,\u001b[0m\u001b[38;2;51;51;51m k\u001b[0m\u001b[38;2;51;51;51m,\u001b[0m\u001b[38;2;51;51;51m target\u001b[0m\u001b[38;2;51;51;51m,\u001b[0m\u001b[38;2;51;51;51m allowed\u001b[0m\u001b[38;2;51;51;51m)\u001b[0m\u001b[38;2;51;51;51m;\u001b[0m\r\n",
      "\u001b[38;5;238m  93\u001b[0m   \u001b[38;5;238m│\u001b[0m \u001b[38;2;51;51;51m  \u001b[0m\u001b[38;2;167;29;93mif\u001b[0m\u001b[38;2;51;51;51m \u001b[0m\u001b[38;2;51;51;51m(\u001b[0m\u001b[38;2;167;29;93m!\u001b[0m\u001b[38;2;51;51;51mres\u001b[0m\u001b[38;2;51;51;51m.\u001b[0m\u001b[38;2;0;134;179mempty\u001b[0m\u001b[38;2;51;51;51m(\u001b[0m\u001b[38;2;51;51;51m)\u001b[0m\u001b[38;2;51;51;51m)\u001b[0m\r\n",
      "\u001b[38;5;238m  94\u001b[0m   \u001b[38;5;238m│\u001b[0m \u001b[38;2;51;51;51m    \u001b[0m\u001b[38;2;167;29;93mreturn\u001b[0m\u001b[38;2;51;51;51m res\u001b[0m\u001b[38;2;51;51;51m;\u001b[0m\r\n",
      "\u001b[38;5;238m  95\u001b[0m   \u001b[38;5;238m│\u001b[0m \r\n",
      "\u001b[38;5;238m  96\u001b[0m   \u001b[38;5;238m│\u001b[0m \u001b[38;2;51;51;51m  \u001b[0m\u001b[38;2;150;152;150m//\u001b[0m\u001b[38;2;150;152;150m try without the last number, including it in\u001b[0m\r\n",
      "\u001b[38;5;238m  97\u001b[0m   \u001b[38;5;238m│\u001b[0m \u001b[38;2;51;51;51m  \u001b[0m\u001b[38;2;150;152;150m//\u001b[0m\u001b[38;2;150;152;150m the result sum\u001b[0m\r\n",
      "\u001b[38;5;238m  98\u001b[0m   \u001b[38;5;238m│\u001b[0m \u001b[38;2;51;51;51m  res \u001b[0m\u001b[38;2;167;29;93m=\u001b[0m\u001b[38;2;51;51;51m \u001b[0m\u001b[38;2;0;134;179mtarget_sum\u001b[0m\u001b[38;2;51;51;51m(\u001b[0m\u001b[38;2;51;51;51mn\u001b[0m\u001b[38;2;167;29;93m-\u001b[0m\u001b[38;2;0;134;179m1\u001b[0m\u001b[38;2;51;51;51m,\u001b[0m\u001b[38;2;51;51;51m k\u001b[0m\u001b[38;2;167;29;93m-\u001b[0m\u001b[38;2;0;134;179m1\u001b[0m\u001b[38;2;51;51;51m,\u001b[0m\u001b[38;2;51;51;51m target \u001b[0m\u001b[38;2;167;29;93m-\u001b[0m\u001b[38;2;51;51;51m allowed\u001b[0m\u001b[38;2;51;51;51m[\u001b[0m\u001b[38;2;51;51;51mn\u001b[0m\u001b[38;2;167;29;93m-\u001b[0m\u001b[38;2;0;134;179m1\u001b[0m\u001b[38;2;51;51;51m]\u001b[0m\u001b[38;2;51;51;51m,\u001b[0m\u001b[38;2;51;51;51m allowed\u001b[0m\u001b[38;2;51;51;51m)\u001b[0m\u001b[38;2;51;51;51m;\u001b[0m\r\n",
      "\u001b[38;5;238m  99\u001b[0m   \u001b[38;5;238m│\u001b[0m \u001b[38;2;51;51;51m  \u001b[0m\u001b[38;2;167;29;93mif\u001b[0m\u001b[38;2;51;51;51m \u001b[0m\u001b[38;2;51;51;51m(\u001b[0m\u001b[38;2;51;51;51mres\u001b[0m\u001b[38;2;51;51;51m.\u001b[0m\u001b[38;2;0;134;179mempty\u001b[0m\u001b[38;2;51;51;51m(\u001b[0m\u001b[38;2;51;51;51m)\u001b[0m\u001b[38;2;51;51;51m)\u001b[0m\r\n",
      "\u001b[38;5;238m 100\u001b[0m   \u001b[38;5;238m│\u001b[0m \u001b[38;2;51;51;51m    \u001b[0m\u001b[38;2;167;29;93mreturn\u001b[0m\u001b[38;2;51;51;51m res\u001b[0m\u001b[38;2;51;51;51m;\u001b[0m\r\n",
      "\u001b[38;5;238m 101\u001b[0m   \u001b[38;5;238m│\u001b[0m \u001b[38;2;51;51;51m  \u001b[0m\u001b[38;2;167;29;93melse\u001b[0m\u001b[38;2;51;51;51m \u001b[0m\u001b[38;2;51;51;51m{\u001b[0m\r\n",
      "\u001b[38;5;238m 102\u001b[0m   \u001b[38;5;238m│\u001b[0m \u001b[38;2;51;51;51m    res\u001b[0m\u001b[38;2;51;51;51m.\u001b[0m\u001b[38;2;0;134;179mpush_back\u001b[0m\u001b[38;2;51;51;51m(\u001b[0m\u001b[38;2;51;51;51mallowed\u001b[0m\u001b[38;2;51;51;51m[\u001b[0m\u001b[38;2;51;51;51mn\u001b[0m\u001b[38;2;167;29;93m-\u001b[0m\u001b[38;2;0;134;179m1\u001b[0m\u001b[38;2;51;51;51m]\u001b[0m\u001b[38;2;51;51;51m)\u001b[0m\u001b[38;2;51;51;51m;\u001b[0m\r\n",
      "\u001b[38;5;238m 103\u001b[0m   \u001b[38;5;238m│\u001b[0m \u001b[38;2;51;51;51m    \u001b[0m\u001b[38;2;167;29;93mreturn\u001b[0m\u001b[38;2;51;51;51m res\u001b[0m\u001b[38;2;51;51;51m;\u001b[0m\r\n",
      "\u001b[38;5;238m 104\u001b[0m   \u001b[38;5;238m│\u001b[0m \u001b[38;2;51;51;51m  \u001b[0m\u001b[38;2;51;51;51m}\u001b[0m\r\n",
      "\u001b[38;5;238m 105\u001b[0m   \u001b[38;5;238m│\u001b[0m \u001b[38;2;51;51;51m}\u001b[0m\r\n",
      "\u001b[38;5;238m───────┴────────────────────────────────────────────────────────────────────────\u001b[0m\r\n"
     ]
    }
   ],
   "source": [
    "!bat ./task3.cpp --theme GitHub"
   ]
  },
  {
   "cell_type": "markdown",
   "metadata": {},
   "source": [
    "### C++ works much faster: 0.01s vs 30.1s on Python "
   ]
  },
  {
   "cell_type": "code",
   "execution_count": 150,
   "metadata": {},
   "outputs": [],
   "source": [
    "_ = generate_parameters(40, 8, save_filename='input.txt')"
   ]
  },
  {
   "cell_type": "code",
   "execution_count": 151,
   "metadata": {},
   "outputs": [
    {
     "name": "stdout",
     "output_type": "stream",
     "text": [
      "0.01user 0.00system 0:00.01elapsed 86%CPU (0avgtext+0avgdata 3564maxresident)k\r\n",
      "0inputs+0outputs (0major+181minor)pagefaults 0swaps\r\n"
     ]
    }
   ],
   "source": [
    "!time ./a.out input.txt >> /dev/null"
   ]
  },
  {
   "cell_type": "code",
   "execution_count": 155,
   "metadata": {},
   "outputs": [
    {
     "name": "stdout",
     "output_type": "stream",
     "text": [
      "time elapsed: 30.1s\n"
     ]
    }
   ],
   "source": [
    "start = time.time() \n",
    "target_sum_bf(*read_parameters('input.txt'))\n",
    "print(f'time elapsed: {(time.time() - start):.3}s')"
   ]
  },
  {
   "cell_type": "code",
   "execution_count": 139,
   "metadata": {},
   "outputs": [],
   "source": [
    "_ = generate_parameters(40, 11, save_filename='input.txt')"
   ]
  },
  {
   "cell_type": "code",
   "execution_count": 140,
   "metadata": {},
   "outputs": [
    {
     "name": "stdout",
     "output_type": "stream",
     "text": [
      "7.65user 0.05system 0:07.71elapsed 99%CPU (0avgtext+0avgdata 59396maxresident)k\r\n",
      "0inputs+0outputs (0major+14143minor)pagefaults 0swaps\r\n"
     ]
    }
   ],
   "source": [
    "!time ./a.out input.txt >> /dev/null"
   ]
  },
  {
   "cell_type": "markdown",
   "metadata": {},
   "source": [
    "### However it's not enough for big n and k anyway. Possible improvement: lazy recursion + threding"
   ]
  },
  {
   "cell_type": "code",
   "execution_count": 149,
   "metadata": {},
   "outputs": [],
   "source": [
    "_ = generate_parameters(60, 20, save_filename='input.txt')"
   ]
  },
  {
   "cell_type": "code",
   "execution_count": 148,
   "metadata": {},
   "outputs": [
    {
     "name": "stdout",
     "output_type": "stream",
     "text": [
      "^C\r\n",
      "Command terminated by signal 2\r\n",
      "85.09user 0.42system 1:25.54elapsed 99%CPU (0avgtext+0avgdata 503896maxresident)k\r\n",
      "0inputs+0outputs (0major+125313minor)pagefaults 0swaps\r\n"
     ]
    }
   ],
   "source": [
    "!time ./a.out input.txt >> /dev/null"
   ]
  }
 ],
 "metadata": {
  "kernelspec": {
   "display_name": "SageMath 9.2",
   "language": "sage",
   "name": "sagemath"
  },
  "language_info": {
   "codemirror_mode": {
    "name": "ipython",
    "version": 3
   },
   "file_extension": ".py",
   "mimetype": "text/x-python",
   "name": "python",
   "nbconvert_exporter": "python",
   "pygments_lexer": "ipython3",
   "version": "3.8.5"
  }
 },
 "nbformat": 4,
 "nbformat_minor": 4
}
